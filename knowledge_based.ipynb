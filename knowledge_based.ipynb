{
 "cells": [
  {
   "cell_type": "markdown",
   "metadata": {},
   "source": [
    "### Recommendations with MovieTweetings: Most Popular Recommendation"
   ]
  },
  {
   "cell_type": "code",
   "execution_count": 3,
   "metadata": {},
   "outputs": [],
   "source": [
    "import numpy as np\n",
    "import pandas as pd\n",
    "import matplotlib.pyplot as plt\n",
    "%matplotlib inline\n",
    "\n",
    "# Read in the datasets\n",
    "movies = pd.read_csv('data/movies_clean.csv')\n",
    "reviews = pd.read_csv('data/reviews_clean.csv')"
   ]
  },
  {
   "cell_type": "markdown",
   "metadata": {},
   "source": [
    "#### 1. How To Find The Most Popular Movies\n",
    "\n",
    "For this notebook, we have a single task.  The task is that no matter the user, we need to provide a list of the recommendations based on simply the most popular items.\n",
    "\n",
    "For this task, we will consider what is \"most popular\" based on the following criteria:\n",
    "\n",
    "* A movie with the highest average rating is considered best\n",
    "* With ties, movies that have more ratings are better\n",
    "* A movie must have a minimum of 5 ratings to be considered among the best movies\n",
    "* If movies are tied in their average rating and number of ratings, the ranking is determined by the movie that is the most recent rating\n",
    "\n",
    "With these criteria, the goal for this notebook is to take a **user_id** and provide back the **n_top** recommendations.  Use the function below as the scaffolding that will be used for all the future recommendations as well."
   ]
  },
  {
   "cell_type": "code",
   "execution_count": 22,
   "metadata": {},
   "outputs": [],
   "source": [
    "def create_ranked_df(movies, reviews):\n",
    "    '''\n",
    "    INPUT\n",
    "    movies - the movies dataframe\n",
    "    reviews - the reviews dataframe\n",
    "\n",
    "    OUTPUT\n",
    "    ranked_movies - a dataframe with movies that are sorted by highest avg rating, more reviews, \n",
    "                    then time, and must have more than 4 ratings\n",
    "    '''\n",
    "\n",
    "    # Number of ratings for each movie\n",
    "    no_of_ratings = reviews.groupby('movie_id')['rating'].count()\n",
    "    no_of_ratings.rename(\"no_of_ratings\", inplace=True)\n",
    "\n",
    "    # Average rating for each movie\n",
    "    mean_rating = reviews.groupby('movie_id')['rating'].mean()\n",
    "    mean_rating.rename(\"mean_rating\", inplace=True)\n",
    "\n",
    "    # Last reviewed date for each movie\n",
    "    last_review_date = reviews.groupby('movie_id')['date'].max()\n",
    "    last_review_date.rename(\"last_review_date\", inplace=True)\n",
    "\n",
    "    # Put these Series' into a dataframe\n",
    "    ranked_movies = pd.concat(\n",
    "        [no_of_ratings, mean_rating, last_review_date], axis=1)\n",
    "\n",
    "    # Filter out movies with less than 5 reviews\n",
    "    ranked_movies = ranked_movies[ranked_movies['no_of_ratings'] > 4]\n",
    "\n",
    "    # Sort movies\n",
    "    ranked_movies.sort_values(\n",
    "        ['mean_rating', 'no_of_ratings', 'last_review_date'], ascending=False, inplace=True)\n",
    "\n",
    "    # Reset index\n",
    "    ranked_movies.reset_index(inplace=True)\n",
    "\n",
    "    # Merge with movies data\n",
    "    ranked_movies = ranked_movies.merge(movies, how='left', on='movie_id')\n",
    "\n",
    "    return ranked_movies"
   ]
  },
  {
   "cell_type": "code",
   "execution_count": 21,
   "metadata": {},
   "outputs": [],
   "source": [
    "def popular_recommendations(user_id, n_top, ranked_movies):\n",
    "    '''\n",
    "    INPUT:\n",
    "    user_id - the user_id of the individual you are making recommendations for\n",
    "    n_top - an integer of the number recommendations you want back\n",
    "    OUTPUT:\n",
    "    top_movies - a list of the n_top recommended movies by movie title in order best to worst\n",
    "    '''\n",
    "    top_movies = list(ranked_movies['movie'][:n_top])\n",
    "\n",
    "    return top_movies  # a list of the n_top movies as recommended"
   ]
  },
  {
   "cell_type": "markdown",
   "metadata": {},
   "source": [
    "Usint the three criteria above, you should be able to put together the above function.  If you feel confident in your solution, check the results of your function against our solution. On the next page, you can see a walkthrough and you can of course get the solution by looking at the solution notebook available in this workspace.  "
   ]
  },
  {
   "cell_type": "code",
   "execution_count": 43,
   "metadata": {},
   "outputs": [],
   "source": [
    "# Create ranked movies dataframe\n",
    "ranked_movies = create_ranked_df(movies, reviews)"
   ]
  },
  {
   "cell_type": "code",
   "execution_count": 26,
   "metadata": {},
   "outputs": [
    {
     "data": {
      "text/plain": [
       "['MSG 2 the Messenger (2015)',\n",
       " 'Avengers: Age of Ultron Parody (2015)',\n",
       " 'Five Minutes (2017)',\n",
       " 'Selam (2013)',\n",
       " 'Let There Be Light (2017)',\n",
       " \"Quiet Riot: Well Now You're Here, There's No Way Back (2014)\",\n",
       " 'Crawl Bitch Crawl (2012)',\n",
       " 'Chasing Happiness (2019)',\n",
       " 'Make Like a Dog (2015)',\n",
       " 'Pandorica (2016)',\n",
       " 'Third Contact (2011)',\n",
       " 'Romeo Juliet (2009)',\n",
       " 'Be Somebody (2016)',\n",
       " 'Birlesen Gonuller (2014)',\n",
       " 'Kitbull (2019)',\n",
       " 'Agnelli (2017)',\n",
       " 'Sátántangó (1994)',\n",
       " 'Foster (2011)',\n",
       " 'CM101MMXI Fundamentals (2013)',\n",
       " 'Crystal Lake Memories: The Complete History of Friday the 13th (2013)']"
      ]
     },
     "execution_count": 26,
     "metadata": {},
     "output_type": "execute_result"
    }
   ],
   "source": [
    "# Top 20 movies recommended for id 1\n",
    "recs_20_for_1 = popular_recommendations('1', 20, ranked_movies)\n",
    "recs_20_for_1"
   ]
  },
  {
   "cell_type": "markdown",
   "metadata": {},
   "source": [
    "**Notice:** This wasn't the only way we could have determined the \"top rated\" movies.  You can imagine that in keeping track of trending news or trending social events, you would likely want to create a time window from the current time, and then pull the articles in the most recent time frame.  There are always going to be some subjective decisions to be made.  \n",
    "\n",
    "If you find that no one is paying any attention to your most popular recommendations, then it might be time to find a new way to recommend, which is what the next parts of the lesson should prepare us to do!\n"
   ]
  },
  {
   "cell_type": "markdown",
   "metadata": {},
   "source": [
    "### Part II: Adding Filters\n",
    "\n",
    "Now that you have created a function to give back the **n_top** movies, let's make it a bit more robust.  Add arguments that will act as filters for the movie **year** and **genre**.  \n",
    "\n",
    "Use the cells below to adjust your existing function to allow for **year** and **genre** arguments as **lists** of **strings**.  Then your ending results are filtered to only movies within the lists of provided years and genres (as `or` conditions).  If no list is provided, there should be no filter applied.\n",
    "\n",
    "You can adjust other necessary inputs as necessary to retrieve the final results you are looking for!\n",
    "\n",
    "Try writing a few tests against the test function in our test function.  Below returns the top 20 movies for user 1 based on the specified year and genre filters.  Does yours return the same? \n",
    "\n",
    "```\n",
    "t.popular_recs_filtered('1', 20, ranked_movies, years=['2015', '2016', '2017', '2018'], genres=['History'])\n",
    "```"
   ]
  },
  {
   "cell_type": "code",
   "execution_count": 55,
   "metadata": {},
   "outputs": [],
   "source": [
    "def filtered_recommendations(user_id, n_top, ranked_movies, years=None, genres=None):\n",
    "    '''\n",
    "    INPUT:\n",
    "    user_id - the user_id (str) of the individual you are making recommendations for\n",
    "    n_top - an integer of the number recommendations you want back\n",
    "    ranked_movies - a pandas dataframe of the already ranked movies based on avg rating, count, and time\n",
    "    years - a list of strings with years of movies\n",
    "    genres - a list of strings with genres of movies\n",
    "\n",
    "    OUTPUT:\n",
    "    top_movies - a list of the n_top recommended movies by movie title in order best to worst\n",
    "    '''\n",
    "\n",
    "    if years:\n",
    "        ranked_movies = ranked_movies[ranked_movies['date'].isin(years)]\n",
    "\n",
    "    if genres:\n",
    "        ranked_movies = ranked_movies[ranked_movies[genres].sum(axis=1) > 0]\n",
    "\n",
    "    top_movies = list(ranked_movies['movie'][:n_top])\n",
    "\n",
    "    return top_movies  # a list of the n_top movies as recommended"
   ]
  },
  {
   "cell_type": "code",
   "execution_count": 56,
   "metadata": {},
   "outputs": [
    {
     "data": {
      "text/plain": [
       "[\"Hillary's America: The Secret History of the Democratic Party (2016)\",\n",
       " 'I Believe in Miracles (2015)',\n",
       " 'O.J.: Made in America (2016)',\n",
       " 'Ayla: The Daughter of War (2017)',\n",
       " 'Hacksaw Ridge (2016)',\n",
       " 'They Shall Not Grow Old (2018)',\n",
       " 'Namhansanseong (2017)',\n",
       " 'The Farthest (2017)',\n",
       " 'Kono sekai no katasumi ni (2016)',\n",
       " 'Sado (2015)',\n",
       " 'Silicon Cowboys (2016)',\n",
       " '13th (2016)',\n",
       " 'Ethel &amp; Ernest (2016)',\n",
       " 'Paul, Apostle of Christ (2018)',\n",
       " 'Kincsem (2017)',\n",
       " 'LA 92 (2017)',\n",
       " 'Straight Outta Compton (2015)',\n",
       " 'Nise - O Coração da Loucura (2015)',\n",
       " 'Under sandet (2015)',\n",
       " 'Only the Dead (2015)']"
      ]
     },
     "execution_count": 56,
     "metadata": {},
     "output_type": "execute_result"
    }
   ],
   "source": [
    "filtered_recommendations('1', 20, ranked_movies, years=[\n",
    "                         2015, 2016, 2017, 2018], genres=['History'])"
   ]
  }
 ],
 "metadata": {
  "kernelspec": {
   "display_name": "Python 3",
   "language": "python",
   "name": "python3"
  },
  "language_info": {
   "codemirror_mode": {
    "name": "ipython",
    "version": 3
   },
   "file_extension": ".py",
   "mimetype": "text/x-python",
   "name": "python",
   "nbconvert_exporter": "python",
   "pygments_lexer": "ipython3",
   "version": "3.7.9"
  }
 },
 "nbformat": 4,
 "nbformat_minor": 2
}
